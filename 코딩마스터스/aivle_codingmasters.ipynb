{
 "cells": [
  {
   "cell_type": "code",
   "execution_count": 1,
   "id": "bf86e02a",
   "metadata": {},
   "outputs": [
    {
     "name": "stdout",
     "output_type": "stream",
     "text": [
      "200\n",
      "2\n",
      "2\n"
     ]
    }
   ],
   "source": [
    "# aivle 5405\n",
    "# -*- coding: utf-8 -*-\n",
    "\n",
    "import sys\n",
    "\n",
    "a = int(input())\n",
    "a_sum = 0\n",
    "a_reverse = 0\n",
    "\n",
    "for i in range(1, len(str(a))+1):\n",
    "    if a%10:\n",
    "        a_sum += (a%10)    \n",
    "    a_reverse += (a%10)*((10**(len(str(a))-1)))\n",
    "    a//=10\n",
    "\n",
    "print(a_reverse)\n",
    "print(a_sum)"
   ]
  },
  {
   "cell_type": "code",
   "execution_count": 9,
   "id": "ecfb877d",
   "metadata": {},
   "outputs": [
    {
     "name": "stdout",
     "output_type": "stream",
     "text": [
      "3\n",
      "147\n",
      "258\n",
      "369\n"
     ]
    }
   ],
   "source": [
    "# 5406\n",
    "\n",
    "# -*- coding: utf-8 -*-\n",
    "import sys\n",
    "\n",
    "# a = int(sys.stdin.readline())\n",
    "a = int(input())\n",
    "\n",
    "for i in range(1, a+1):\n",
    "    num = i\n",
    "    for _ in range(a):\n",
    "        print(num, end=' ')\n",
    "        num = num + a\n",
    "    print('')\n",
    "        \n",
    "        "
   ]
  },
  {
   "cell_type": "code",
   "execution_count": 13,
   "id": "ecfbb0fd",
   "metadata": {},
   "outputs": [
    {
     "name": "stdout",
     "output_type": "stream",
     "text": [
      "452 486\n",
      "684\n"
     ]
    }
   ],
   "source": [
    "# 5408\n",
    "\n",
    "a, b = input().split()\n",
    "\n",
    "new_a = int(a[0]) + int(a[1])*10 + int(a[2])*100\n",
    "new_b = int(b[0]) + int(b[1])*10 + int(b[2])*100\n",
    "\n",
    "print(new_a if new_a > new_b else new_b)"
   ]
  },
  {
   "cell_type": "code",
   "execution_count": 17,
   "id": "c4f21c18",
   "metadata": {},
   "outputs": [
    {
     "name": "stdout",
     "output_type": "stream",
     "text": [
      "3\n",
      "*\n",
      "**\n",
      "***\n"
     ]
    }
   ],
   "source": [
    "# 5411\n",
    "\n",
    "import sys\n",
    "\n",
    "# a = int(sys.stdin.readline())\n",
    "a = int(input())\n",
    "\n",
    "for i in range(1, a+1):\n",
    "    print('*'*i)"
   ]
  },
  {
   "cell_type": "code",
   "execution_count": 19,
   "id": "b2a752fe",
   "metadata": {},
   "outputs": [
    {
     "name": "stdout",
     "output_type": "stream",
     "text": [
      "98\n",
      "A\n"
     ]
    }
   ],
   "source": [
    "# 5409\n",
    "\n",
    "a = int(input())\n",
    "\n",
    "if a>=90:\n",
    "    print('A')\n",
    "elif a>= 80:\n",
    "    print('B')\n",
    "elif a>= 70:\n",
    "    print('C')\n",
    "else:\n",
    "    print('F')"
   ]
  },
  {
   "cell_type": "code",
   "execution_count": 21,
   "id": "a055514e",
   "metadata": {},
   "outputs": [
    {
     "name": "stdout",
     "output_type": "stream",
     "text": [
      "nanum\n",
      "0\n"
     ]
    }
   ],
   "source": [
    "# 5412\n",
    "\n",
    "a = input()\n",
    "print(a.count('k'))"
   ]
  },
  {
   "cell_type": "code",
   "execution_count": 22,
   "id": "10d05846",
   "metadata": {},
   "outputs": [
    {
     "name": "stdout",
     "output_type": "stream",
     "text": [
      "hello\n",
      "olleh\n",
      "hello\n",
      "olleh\n"
     ]
    }
   ],
   "source": [
    "# 5410\n",
    "\n",
    "a = input()\n",
    "b = input()\n",
    "print(a)\n",
    "print(b)"
   ]
  },
  {
   "cell_type": "code",
   "execution_count": 24,
   "id": "998cdbee",
   "metadata": {},
   "outputs": [
    {
     "name": "stdout",
     "output_type": "stream",
     "text": [
      "3\n",
      "O\n"
     ]
    }
   ],
   "source": [
    "# 5413\n",
    "a = int(input())\n",
    "print('O' if a%2 else 'E')"
   ]
  },
  {
   "cell_type": "code",
   "execution_count": null,
   "id": "eda74a19",
   "metadata": {},
   "outputs": [],
   "source": [
    "# 5415\n",
    "import sys\n",
    "a = int(sys.stdin.readline())\n",
    "print(a//5)"
   ]
  },
  {
   "cell_type": "code",
   "execution_count": 26,
   "id": "10fc1859",
   "metadata": {},
   "outputs": [
    {
     "name": "stdout",
     "output_type": "stream",
     "text": [
      "23 54 232\n",
      "177\n"
     ]
    }
   ],
   "source": [
    "# 5414\n",
    "\n",
    "# a, b, c = map(int, input().split())\n",
    "a,b,c = map(int,sys.stdin.readline().split())\n",
    "if b-a > c-b:\n",
    "    ans = b-a-1\n",
    "else:\n",
    "    ans = c-b-1\n",
    "    \n",
    "print(ans)"
   ]
  },
  {
   "cell_type": "code",
   "execution_count": null,
   "id": "4fe21a03",
   "metadata": {},
   "outputs": [],
   "source": [
    "# 5416\n",
    "\n",
    "import sys\n",
    "\n",
    "a = int(sys.stdin.readline())\n",
    "num_list = []\n",
    "for i in range(a):\n",
    "    b = int(sys.stdin.readline())\n",
    "    num_list.append(b)\n",
    "\n",
    "print(sum(num_list))"
   ]
  },
  {
   "cell_type": "code",
   "execution_count": 43,
   "id": "cb070c1b",
   "metadata": {},
   "outputs": [
    {
     "name": "stdout",
     "output_type": "stream",
     "text": [
      "5\n",
      "78.5\n",
      "5\n"
     ]
    }
   ],
   "source": [
    "# 5420 \n",
    "\n",
    "# a = int(sys.stdin.readline())\n",
    "a = int(input())\n",
    "print(a*a*3.14 if str(a*a*3.14)[-1] != '0' else int(a*a*3.14))"
   ]
  },
  {
   "cell_type": "code",
   "execution_count": 49,
   "id": "b7ffcb13",
   "metadata": {},
   "outputs": [
    {
     "name": "stdout",
     "output_type": "stream",
     "text": [
      "10\n",
      "2\n",
      "3\n",
      "5\n",
      "7\n",
      "4\n"
     ]
    }
   ],
   "source": [
    "# 5417\n",
    "\n",
    "# a = int(sys.stdin.readline())\n",
    "a = int(input())\n",
    "count = []\n",
    "\n",
    "for i in range(2, a+1):\n",
    "    flag = 0 # 소수 여부 판별 (소수면 0 아니면 1)\n",
    "    for k in range(2, i):\n",
    "        if i % k == 0:\n",
    "            flag = 1\n",
    "            break\n",
    "    \n",
    "    if (flag == 0):\n",
    "        print(i)\n",
    "        count.append(i)\n",
    "\n",
    "print(len(count))"
   ]
  },
  {
   "cell_type": "code",
   "execution_count": null,
   "id": "b7d7da56",
   "metadata": {},
   "outputs": [],
   "source": [
    "# 5421\n",
    "\n",
    "print(a//16)"
   ]
  },
  {
   "cell_type": "code",
   "execution_count": 51,
   "id": "6f9f3a8f",
   "metadata": {},
   "outputs": [
    {
     "name": "stdout",
     "output_type": "stream",
     "text": [
      "kimnaraesarangbadahaneul\n",
      "0\n"
     ]
    }
   ],
   "source": [
    "#5418\n",
    "\n",
    "a = input()\n",
    "print(0 if len(a)>=20 else -1)"
   ]
  },
  {
   "cell_type": "code",
   "execution_count": null,
   "id": "f59520c3",
   "metadata": {},
   "outputs": [],
   "source": [
    "#5422\n",
    "print(a%3)"
   ]
  },
  {
   "cell_type": "code",
   "execution_count": 55,
   "id": "df93efcc",
   "metadata": {},
   "outputs": [
    {
     "name": "stdout",
     "output_type": "stream",
     "text": [
      "3\n",
      "170 180 100\n"
     ]
    },
    {
     "ename": "ValueError",
     "evalue": "invalid literal for int() with base 10: ' '",
     "output_type": "error",
     "traceback": [
      "\u001b[1;31m---------------------------------------------------------------------------\u001b[0m",
      "\u001b[1;31mValueError\u001b[0m                                Traceback (most recent call last)",
      "\u001b[1;32m<ipython-input-55-34650eea3384>\u001b[0m in \u001b[0;36m<module>\u001b[1;34m\u001b[0m\n\u001b[0;32m      2\u001b[0m \u001b[0mstage\u001b[0m \u001b[1;33m=\u001b[0m \u001b[0mint\u001b[0m\u001b[1;33m(\u001b[0m\u001b[0minput\u001b[0m\u001b[1;33m(\u001b[0m\u001b[1;33m)\u001b[0m\u001b[1;33m)\u001b[0m\u001b[1;33m\u001b[0m\u001b[1;33m\u001b[0m\u001b[0m\n\u001b[0;32m      3\u001b[0m \u001b[1;31m# H = list(map(int,sys.stdin.readline().split()))\u001b[0m\u001b[1;33m\u001b[0m\u001b[1;33m\u001b[0m\u001b[1;33m\u001b[0m\u001b[0m\n\u001b[1;32m----> 4\u001b[1;33m \u001b[0mH\u001b[0m \u001b[1;33m=\u001b[0m \u001b[0mlist\u001b[0m\u001b[1;33m(\u001b[0m\u001b[0mmap\u001b[0m\u001b[1;33m(\u001b[0m\u001b[0mint\u001b[0m\u001b[1;33m,\u001b[0m \u001b[0minput\u001b[0m\u001b[1;33m(\u001b[0m\u001b[1;33m)\u001b[0m\u001b[1;33m)\u001b[0m\u001b[1;33m)\u001b[0m\u001b[1;33m\u001b[0m\u001b[1;33m\u001b[0m\u001b[0m\n\u001b[0m\u001b[0;32m      5\u001b[0m \u001b[1;33m\u001b[0m\u001b[0m\n\u001b[0;32m      6\u001b[0m \u001b[1;32mfor\u001b[0m \u001b[0mh\u001b[0m \u001b[1;32min\u001b[0m \u001b[0mH\u001b[0m\u001b[1;33m:\u001b[0m\u001b[1;33m\u001b[0m\u001b[1;33m\u001b[0m\u001b[0m\n",
      "\u001b[1;31mValueError\u001b[0m: invalid literal for int() with base 10: ' '"
     ]
    }
   ],
   "source": [
    "# 5424\n",
    "stage = int(input())\n",
    "# H = list(map(int,sys.stdin.readline().split()))\n",
    "H = list(map(int, input()))\n",
    "\n",
    "for h in H:\n",
    "    if h < 160:\n",
    "        ans = 'I'\n",
    "        height = h\n",
    "        break\n",
    "\n",
    "if ans == 'I':\n",
    "    print(ans, height)\n",
    "else:\n",
    "    print('P')"
   ]
  },
  {
   "cell_type": "code",
   "execution_count": null,
   "id": "54673301",
   "metadata": {},
   "outputs": [],
   "source": []
  }
 ],
 "metadata": {
  "kernelspec": {
   "display_name": "Python 3",
   "language": "python",
   "name": "python3"
  },
  "language_info": {
   "codemirror_mode": {
    "name": "ipython",
    "version": 3
   },
   "file_extension": ".py",
   "mimetype": "text/x-python",
   "name": "python",
   "nbconvert_exporter": "python",
   "pygments_lexer": "ipython3",
   "version": "3.8.10"
  }
 },
 "nbformat": 4,
 "nbformat_minor": 5
}
